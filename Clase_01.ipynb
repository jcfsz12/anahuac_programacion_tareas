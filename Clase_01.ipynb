{
  "nbformat": 4,
  "nbformat_minor": 0,
  "metadata": {
    "colab": {
      "name": "Clase 01.ipynb",
      "provenance": [],
      "authorship_tag": "ABX9TyNcd6cS1sOCA8QSBaIkvYZ4",
      "include_colab_link": true
    },
    "kernelspec": {
      "name": "python3",
      "display_name": "Python 3"
    },
    "language_info": {
      "name": "python"
    }
  },
  "cells": [
    {
      "cell_type": "markdown",
      "metadata": {
        "id": "view-in-github",
        "colab_type": "text"
      },
      "source": [
        "<a href=\"https://colab.research.google.com/github/jcfsz12/anahuac_programacion_tareas/blob/main/Clase_01.ipynb\" target=\"_parent\"><img src=\"https://colab.research.google.com/assets/colab-badge.svg\" alt=\"Open In Colab\"/></a>"
      ]
    },
    {
      "cell_type": "markdown",
      "source": [
        "# print()"
      ],
      "metadata": {
        "id": "hYB-ljLrX43T"
      }
    },
    {
      "cell_type": "code",
      "execution_count": 1,
      "metadata": {
        "colab": {
          "base_uri": "https://localhost:8080/"
        },
        "id": "blHn0pkmVOxl",
        "outputId": "6d06cafd-0d4c-4a11-eef8-2d333d45b244"
      },
      "outputs": [
        {
          "output_type": "stream",
          "name": "stdout",
          "text": [
            "Hola Inmundo!\n"
          ]
        }
      ],
      "source": [
        "print(\"Hola Inmundo!\")"
      ]
    },
    {
      "cell_type": "markdown",
      "source": [
        "## print con formato\n",
        "Usando especificadores de conversión."
      ],
      "metadata": {
        "id": "8k9RaBvLYA4q"
      }
    },
    {
      "cell_type": "code",
      "source": [
        "print(\"Dulces:%d, Galletas:%5d\" % (240, 120)) # Enteros"
      ],
      "metadata": {
        "colab": {
          "base_uri": "https://localhost:8080/"
        },
        "id": "rpwq1y__WNLP",
        "outputId": "5d9dafc1-9d1f-4c95-b184-bd837244e9db"
      },
      "execution_count": 2,
      "outputs": [
        {
          "output_type": "stream",
          "name": "stdout",
          "text": [
            "Dulces:240, Galletas:  120\n"
          ]
        }
      ]
    },
    {
      "cell_type": "code",
      "source": [
        "print(\"Temperatura: %2.1f C\" % (20.432)) # Flotantes"
      ],
      "metadata": {
        "colab": {
          "base_uri": "https://localhost:8080/"
        },
        "id": "VaSj0xTcYnkA",
        "outputId": "cafd38ee-30a3-4bad-d107-8caa9ac7440f"
      },
      "execution_count": 3,
      "outputs": [
        {
          "output_type": "stream",
          "name": "stdout",
          "text": [
            "Temperatura: 20.4 C\n"
          ]
        }
      ]
    },
    {
      "cell_type": "code",
      "source": [
        "print(\"%o\" % (1234)) # Bases numericas\n",
        "print(\"%X\" % (1234))"
      ],
      "metadata": {
        "colab": {
          "base_uri": "https://localhost:8080/"
        },
        "id": "5aayZ3OtY3EG",
        "outputId": "891f86d0-5775-4d1e-dba9-317903be9880"
      },
      "execution_count": 5,
      "outputs": [
        {
          "output_type": "stream",
          "name": "stdout",
          "text": [
            "2322\n",
            "4D2\n"
          ]
        }
      ]
    },
    {
      "cell_type": "code",
      "source": [
        "print(\"%9.3E\" % (356.08977))"
      ],
      "metadata": {
        "colab": {
          "base_uri": "https://localhost:8080/"
        },
        "id": "PUmBrjmYZCLm",
        "outputId": "14395573-e233-44d3-8780-a4c7caa0578d"
      },
      "execution_count": 6,
      "outputs": [
        {
          "output_type": "stream",
          "name": "stdout",
          "text": [
            "3.561E+02\n"
          ]
        }
      ]
    },
    {
      "cell_type": "markdown",
      "source": [
        "# Ejercicio"
      ],
      "metadata": {
        "id": "em_8S47Ccdlg"
      }
    },
    {
      "cell_type": "code",
      "source": [
        "nombre = \"Juan\"\n",
        "edad = 32\n",
        "ID = 433998\n",
        "programa = \"MTIIA\"\n",
        "semestresTotales = 4\n",
        "semestresCursados = 2\n",
        "\n",
        "print(f'Mi nombre es: {nombre}\\nTengo {edad} años\\nMi ID es: {ID}\\nEl programa que estoy estudiando es: {programa}\\nMe quedan tantos semestres: {semestresTotales - semestresCursados}')"
      ],
      "metadata": {
        "colab": {
          "base_uri": "https://localhost:8080/"
        },
        "id": "aN29LJEgce_2",
        "outputId": "597d7c9b-cff1-4a3d-eaa0-c30e53b9fde7"
      },
      "execution_count": 17,
      "outputs": [
        {
          "output_type": "stream",
          "name": "stdout",
          "text": [
            "Mi nombre es: Juan\n",
            "Tengo 32 años\n",
            "Mi ID es: 433998\n",
            "El programa que estoy estudiando es: MTIIA\n",
            "Me quedan tantos semestres: 2\n"
          ]
        }
      ]
    },
    {
      "cell_type": "code",
      "source": [
        "operaciones = [5+3,5-3,5*3,5/3,5//3,5%3]\n",
        "print(\"%o\" % (operaciones[0]))"
      ],
      "metadata": {
        "colab": {
          "base_uri": "https://localhost:8080/"
        },
        "id": "U5aZiJVHdAmn",
        "outputId": "2fddc5ae-fc17-4a5d-fe46-854f9d8566ff"
      },
      "execution_count": 34,
      "outputs": [
        {
          "output_type": "stream",
          "name": "stdout",
          "text": [
            "10\n"
          ]
        }
      ]
    },
    {
      "cell_type": "markdown",
      "source": [
        "# Casting\n",
        "Sirve para transformar un objeto de un tipo a otro.\n"
      ],
      "metadata": {
        "id": "ZhSXDaxMf6sK"
      }
    },
    {
      "cell_type": "code",
      "source": [
        "int()\n",
        "float()\n",
        "str()"
      ],
      "metadata": {
        "id": "OBFUtIAAfYuw"
      },
      "execution_count": null,
      "outputs": []
    }
  ]
}